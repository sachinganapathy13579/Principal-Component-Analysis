{
 "cells": [
  {
   "cell_type": "markdown",
   "id": "7956f0ca",
   "metadata": {},
   "source": [
    "## PCA"
   ]
  },
  {
   "cell_type": "code",
   "execution_count": 1,
   "id": "32ce29fd",
   "metadata": {},
   "outputs": [],
   "source": [
    "import numpy as np \n",
    "import pandas as pd \n",
    "import matplotlib.pyplot as plt \n",
    "import seaborn as sns "
   ]
  },
  {
   "cell_type": "code",
   "execution_count": 2,
   "id": "8a41c9aa",
   "metadata": {},
   "outputs": [
    {
     "data": {
      "text/html": [
       "<div>\n",
       "<style scoped>\n",
       "    .dataframe tbody tr th:only-of-type {\n",
       "        vertical-align: middle;\n",
       "    }\n",
       "\n",
       "    .dataframe tbody tr th {\n",
       "        vertical-align: top;\n",
       "    }\n",
       "\n",
       "    .dataframe thead th {\n",
       "        text-align: right;\n",
       "    }\n",
       "</style>\n",
       "<table border=\"1\" class=\"dataframe\">\n",
       "  <thead>\n",
       "    <tr style=\"text-align: right;\">\n",
       "      <th></th>\n",
       "      <th>Type</th>\n",
       "      <th>Alcohol</th>\n",
       "      <th>Malic</th>\n",
       "      <th>Ash</th>\n",
       "      <th>Alcalinity</th>\n",
       "      <th>Magnesium</th>\n",
       "      <th>Phenols</th>\n",
       "      <th>Flavanoids</th>\n",
       "      <th>Nonflavanoids</th>\n",
       "      <th>Proanthocyanins</th>\n",
       "      <th>Color</th>\n",
       "      <th>Hue</th>\n",
       "      <th>Dilution</th>\n",
       "      <th>Proline</th>\n",
       "    </tr>\n",
       "  </thead>\n",
       "  <tbody>\n",
       "    <tr>\n",
       "      <th>0</th>\n",
       "      <td>1</td>\n",
       "      <td>14.23</td>\n",
       "      <td>1.71</td>\n",
       "      <td>2.43</td>\n",
       "      <td>15.6</td>\n",
       "      <td>127</td>\n",
       "      <td>2.80</td>\n",
       "      <td>3.06</td>\n",
       "      <td>0.28</td>\n",
       "      <td>2.29</td>\n",
       "      <td>5.64</td>\n",
       "      <td>1.04</td>\n",
       "      <td>3.92</td>\n",
       "      <td>1065</td>\n",
       "    </tr>\n",
       "    <tr>\n",
       "      <th>1</th>\n",
       "      <td>1</td>\n",
       "      <td>13.20</td>\n",
       "      <td>1.78</td>\n",
       "      <td>2.14</td>\n",
       "      <td>11.2</td>\n",
       "      <td>100</td>\n",
       "      <td>2.65</td>\n",
       "      <td>2.76</td>\n",
       "      <td>0.26</td>\n",
       "      <td>1.28</td>\n",
       "      <td>4.38</td>\n",
       "      <td>1.05</td>\n",
       "      <td>3.40</td>\n",
       "      <td>1050</td>\n",
       "    </tr>\n",
       "    <tr>\n",
       "      <th>2</th>\n",
       "      <td>1</td>\n",
       "      <td>13.16</td>\n",
       "      <td>2.36</td>\n",
       "      <td>2.67</td>\n",
       "      <td>18.6</td>\n",
       "      <td>101</td>\n",
       "      <td>2.80</td>\n",
       "      <td>3.24</td>\n",
       "      <td>0.30</td>\n",
       "      <td>2.81</td>\n",
       "      <td>5.68</td>\n",
       "      <td>1.03</td>\n",
       "      <td>3.17</td>\n",
       "      <td>1185</td>\n",
       "    </tr>\n",
       "    <tr>\n",
       "      <th>3</th>\n",
       "      <td>1</td>\n",
       "      <td>14.37</td>\n",
       "      <td>1.95</td>\n",
       "      <td>2.50</td>\n",
       "      <td>16.8</td>\n",
       "      <td>113</td>\n",
       "      <td>3.85</td>\n",
       "      <td>3.49</td>\n",
       "      <td>0.24</td>\n",
       "      <td>2.18</td>\n",
       "      <td>7.80</td>\n",
       "      <td>0.86</td>\n",
       "      <td>3.45</td>\n",
       "      <td>1480</td>\n",
       "    </tr>\n",
       "    <tr>\n",
       "      <th>4</th>\n",
       "      <td>1</td>\n",
       "      <td>13.24</td>\n",
       "      <td>2.59</td>\n",
       "      <td>2.87</td>\n",
       "      <td>21.0</td>\n",
       "      <td>118</td>\n",
       "      <td>2.80</td>\n",
       "      <td>2.69</td>\n",
       "      <td>0.39</td>\n",
       "      <td>1.82</td>\n",
       "      <td>4.32</td>\n",
       "      <td>1.04</td>\n",
       "      <td>2.93</td>\n",
       "      <td>735</td>\n",
       "    </tr>\n",
       "  </tbody>\n",
       "</table>\n",
       "</div>"
      ],
      "text/plain": [
       "   Type  Alcohol  Malic   Ash  Alcalinity  Magnesium  Phenols  Flavanoids  \\\n",
       "0     1    14.23   1.71  2.43        15.6        127     2.80        3.06   \n",
       "1     1    13.20   1.78  2.14        11.2        100     2.65        2.76   \n",
       "2     1    13.16   2.36  2.67        18.6        101     2.80        3.24   \n",
       "3     1    14.37   1.95  2.50        16.8        113     3.85        3.49   \n",
       "4     1    13.24   2.59  2.87        21.0        118     2.80        2.69   \n",
       "\n",
       "   Nonflavanoids  Proanthocyanins  Color   Hue  Dilution  Proline  \n",
       "0           0.28             2.29   5.64  1.04      3.92     1065  \n",
       "1           0.26             1.28   4.38  1.05      3.40     1050  \n",
       "2           0.30             2.81   5.68  1.03      3.17     1185  \n",
       "3           0.24             2.18   7.80  0.86      3.45     1480  \n",
       "4           0.39             1.82   4.32  1.04      2.93      735  "
      ]
     },
     "execution_count": 2,
     "metadata": {},
     "output_type": "execute_result"
    }
   ],
   "source": [
    "df=pd.read_csv(\"wine.csv\")\n",
    "df.head() "
   ]
  },
  {
   "cell_type": "markdown",
   "id": "8357fb4a",
   "metadata": {},
   "source": [
    "### Dropping the categorical feature"
   ]
  },
  {
   "cell_type": "code",
   "execution_count": 3,
   "id": "73594964",
   "metadata": {},
   "outputs": [
    {
     "data": {
      "text/html": [
       "<div>\n",
       "<style scoped>\n",
       "    .dataframe tbody tr th:only-of-type {\n",
       "        vertical-align: middle;\n",
       "    }\n",
       "\n",
       "    .dataframe tbody tr th {\n",
       "        vertical-align: top;\n",
       "    }\n",
       "\n",
       "    .dataframe thead th {\n",
       "        text-align: right;\n",
       "    }\n",
       "</style>\n",
       "<table border=\"1\" class=\"dataframe\">\n",
       "  <thead>\n",
       "    <tr style=\"text-align: right;\">\n",
       "      <th></th>\n",
       "      <th>Alcohol</th>\n",
       "      <th>Malic</th>\n",
       "      <th>Ash</th>\n",
       "      <th>Alcalinity</th>\n",
       "      <th>Magnesium</th>\n",
       "      <th>Phenols</th>\n",
       "      <th>Flavanoids</th>\n",
       "      <th>Nonflavanoids</th>\n",
       "      <th>Proanthocyanins</th>\n",
       "      <th>Color</th>\n",
       "      <th>Hue</th>\n",
       "      <th>Dilution</th>\n",
       "      <th>Proline</th>\n",
       "    </tr>\n",
       "  </thead>\n",
       "  <tbody>\n",
       "    <tr>\n",
       "      <th>0</th>\n",
       "      <td>14.23</td>\n",
       "      <td>1.71</td>\n",
       "      <td>2.43</td>\n",
       "      <td>15.6</td>\n",
       "      <td>127</td>\n",
       "      <td>2.80</td>\n",
       "      <td>3.06</td>\n",
       "      <td>0.28</td>\n",
       "      <td>2.29</td>\n",
       "      <td>5.64</td>\n",
       "      <td>1.04</td>\n",
       "      <td>3.92</td>\n",
       "      <td>1065</td>\n",
       "    </tr>\n",
       "    <tr>\n",
       "      <th>1</th>\n",
       "      <td>13.20</td>\n",
       "      <td>1.78</td>\n",
       "      <td>2.14</td>\n",
       "      <td>11.2</td>\n",
       "      <td>100</td>\n",
       "      <td>2.65</td>\n",
       "      <td>2.76</td>\n",
       "      <td>0.26</td>\n",
       "      <td>1.28</td>\n",
       "      <td>4.38</td>\n",
       "      <td>1.05</td>\n",
       "      <td>3.40</td>\n",
       "      <td>1050</td>\n",
       "    </tr>\n",
       "    <tr>\n",
       "      <th>2</th>\n",
       "      <td>13.16</td>\n",
       "      <td>2.36</td>\n",
       "      <td>2.67</td>\n",
       "      <td>18.6</td>\n",
       "      <td>101</td>\n",
       "      <td>2.80</td>\n",
       "      <td>3.24</td>\n",
       "      <td>0.30</td>\n",
       "      <td>2.81</td>\n",
       "      <td>5.68</td>\n",
       "      <td>1.03</td>\n",
       "      <td>3.17</td>\n",
       "      <td>1185</td>\n",
       "    </tr>\n",
       "    <tr>\n",
       "      <th>3</th>\n",
       "      <td>14.37</td>\n",
       "      <td>1.95</td>\n",
       "      <td>2.50</td>\n",
       "      <td>16.8</td>\n",
       "      <td>113</td>\n",
       "      <td>3.85</td>\n",
       "      <td>3.49</td>\n",
       "      <td>0.24</td>\n",
       "      <td>2.18</td>\n",
       "      <td>7.80</td>\n",
       "      <td>0.86</td>\n",
       "      <td>3.45</td>\n",
       "      <td>1480</td>\n",
       "    </tr>\n",
       "    <tr>\n",
       "      <th>4</th>\n",
       "      <td>13.24</td>\n",
       "      <td>2.59</td>\n",
       "      <td>2.87</td>\n",
       "      <td>21.0</td>\n",
       "      <td>118</td>\n",
       "      <td>2.80</td>\n",
       "      <td>2.69</td>\n",
       "      <td>0.39</td>\n",
       "      <td>1.82</td>\n",
       "      <td>4.32</td>\n",
       "      <td>1.04</td>\n",
       "      <td>2.93</td>\n",
       "      <td>735</td>\n",
       "    </tr>\n",
       "  </tbody>\n",
       "</table>\n",
       "</div>"
      ],
      "text/plain": [
       "   Alcohol  Malic   Ash  Alcalinity  Magnesium  Phenols  Flavanoids  \\\n",
       "0    14.23   1.71  2.43        15.6        127     2.80        3.06   \n",
       "1    13.20   1.78  2.14        11.2        100     2.65        2.76   \n",
       "2    13.16   2.36  2.67        18.6        101     2.80        3.24   \n",
       "3    14.37   1.95  2.50        16.8        113     3.85        3.49   \n",
       "4    13.24   2.59  2.87        21.0        118     2.80        2.69   \n",
       "\n",
       "   Nonflavanoids  Proanthocyanins  Color   Hue  Dilution  Proline  \n",
       "0           0.28             2.29   5.64  1.04      3.92     1065  \n",
       "1           0.26             1.28   4.38  1.05      3.40     1050  \n",
       "2           0.30             2.81   5.68  1.03      3.17     1185  \n",
       "3           0.24             2.18   7.80  0.86      3.45     1480  \n",
       "4           0.39             1.82   4.32  1.04      2.93      735  "
      ]
     },
     "execution_count": 3,
     "metadata": {},
     "output_type": "execute_result"
    }
   ],
   "source": [
    "df.drop(\"Type\",axis=1,inplace=True)\n",
    "df.head()"
   ]
  },
  {
   "cell_type": "code",
   "execution_count": 4,
   "id": "51b6af85",
   "metadata": {},
   "outputs": [
    {
     "name": "stdout",
     "output_type": "stream",
     "text": [
      "<class 'pandas.core.frame.DataFrame'>\n",
      "RangeIndex: 178 entries, 0 to 177\n",
      "Data columns (total 13 columns):\n",
      " #   Column           Non-Null Count  Dtype  \n",
      "---  ------           --------------  -----  \n",
      " 0   Alcohol          178 non-null    float64\n",
      " 1   Malic            178 non-null    float64\n",
      " 2   Ash              178 non-null    float64\n",
      " 3   Alcalinity       178 non-null    float64\n",
      " 4   Magnesium        178 non-null    int64  \n",
      " 5   Phenols          178 non-null    float64\n",
      " 6   Flavanoids       178 non-null    float64\n",
      " 7   Nonflavanoids    178 non-null    float64\n",
      " 8   Proanthocyanins  178 non-null    float64\n",
      " 9   Color            178 non-null    float64\n",
      " 10  Hue              178 non-null    float64\n",
      " 11  Dilution         178 non-null    float64\n",
      " 12  Proline          178 non-null    int64  \n",
      "dtypes: float64(11), int64(2)\n",
      "memory usage: 18.2 KB\n"
     ]
    }
   ],
   "source": [
    "df.info()"
   ]
  },
  {
   "cell_type": "code",
   "execution_count": 5,
   "id": "c44df7ea",
   "metadata": {},
   "outputs": [
    {
     "data": {
      "text/html": [
       "<div>\n",
       "<style scoped>\n",
       "    .dataframe tbody tr th:only-of-type {\n",
       "        vertical-align: middle;\n",
       "    }\n",
       "\n",
       "    .dataframe tbody tr th {\n",
       "        vertical-align: top;\n",
       "    }\n",
       "\n",
       "    .dataframe thead th {\n",
       "        text-align: right;\n",
       "    }\n",
       "</style>\n",
       "<table border=\"1\" class=\"dataframe\">\n",
       "  <thead>\n",
       "    <tr style=\"text-align: right;\">\n",
       "      <th></th>\n",
       "      <th>Alcohol</th>\n",
       "      <th>Malic</th>\n",
       "      <th>Ash</th>\n",
       "      <th>Alcalinity</th>\n",
       "      <th>Magnesium</th>\n",
       "      <th>Phenols</th>\n",
       "      <th>Flavanoids</th>\n",
       "      <th>Nonflavanoids</th>\n",
       "      <th>Proanthocyanins</th>\n",
       "      <th>Color</th>\n",
       "      <th>Hue</th>\n",
       "      <th>Dilution</th>\n",
       "      <th>Proline</th>\n",
       "    </tr>\n",
       "  </thead>\n",
       "  <tbody>\n",
       "    <tr>\n",
       "      <th>count</th>\n",
       "      <td>178.00</td>\n",
       "      <td>178.00</td>\n",
       "      <td>178.00</td>\n",
       "      <td>178.00</td>\n",
       "      <td>178.00</td>\n",
       "      <td>178.00</td>\n",
       "      <td>178.00</td>\n",
       "      <td>178.00</td>\n",
       "      <td>178.00</td>\n",
       "      <td>178.00</td>\n",
       "      <td>178.00</td>\n",
       "      <td>178.00</td>\n",
       "      <td>178.00</td>\n",
       "    </tr>\n",
       "    <tr>\n",
       "      <th>mean</th>\n",
       "      <td>13.00</td>\n",
       "      <td>2.34</td>\n",
       "      <td>2.37</td>\n",
       "      <td>19.49</td>\n",
       "      <td>99.74</td>\n",
       "      <td>2.30</td>\n",
       "      <td>2.03</td>\n",
       "      <td>0.36</td>\n",
       "      <td>1.59</td>\n",
       "      <td>5.06</td>\n",
       "      <td>0.96</td>\n",
       "      <td>2.61</td>\n",
       "      <td>746.89</td>\n",
       "    </tr>\n",
       "    <tr>\n",
       "      <th>std</th>\n",
       "      <td>0.81</td>\n",
       "      <td>1.12</td>\n",
       "      <td>0.27</td>\n",
       "      <td>3.34</td>\n",
       "      <td>14.28</td>\n",
       "      <td>0.63</td>\n",
       "      <td>1.00</td>\n",
       "      <td>0.12</td>\n",
       "      <td>0.57</td>\n",
       "      <td>2.32</td>\n",
       "      <td>0.23</td>\n",
       "      <td>0.71</td>\n",
       "      <td>314.91</td>\n",
       "    </tr>\n",
       "    <tr>\n",
       "      <th>min</th>\n",
       "      <td>11.03</td>\n",
       "      <td>0.74</td>\n",
       "      <td>1.36</td>\n",
       "      <td>10.60</td>\n",
       "      <td>70.00</td>\n",
       "      <td>0.98</td>\n",
       "      <td>0.34</td>\n",
       "      <td>0.13</td>\n",
       "      <td>0.41</td>\n",
       "      <td>1.28</td>\n",
       "      <td>0.48</td>\n",
       "      <td>1.27</td>\n",
       "      <td>278.00</td>\n",
       "    </tr>\n",
       "    <tr>\n",
       "      <th>25%</th>\n",
       "      <td>12.36</td>\n",
       "      <td>1.60</td>\n",
       "      <td>2.21</td>\n",
       "      <td>17.20</td>\n",
       "      <td>88.00</td>\n",
       "      <td>1.74</td>\n",
       "      <td>1.20</td>\n",
       "      <td>0.27</td>\n",
       "      <td>1.25</td>\n",
       "      <td>3.22</td>\n",
       "      <td>0.78</td>\n",
       "      <td>1.94</td>\n",
       "      <td>500.50</td>\n",
       "    </tr>\n",
       "    <tr>\n",
       "      <th>50%</th>\n",
       "      <td>13.05</td>\n",
       "      <td>1.87</td>\n",
       "      <td>2.36</td>\n",
       "      <td>19.50</td>\n",
       "      <td>98.00</td>\n",
       "      <td>2.36</td>\n",
       "      <td>2.13</td>\n",
       "      <td>0.34</td>\n",
       "      <td>1.56</td>\n",
       "      <td>4.69</td>\n",
       "      <td>0.96</td>\n",
       "      <td>2.78</td>\n",
       "      <td>673.50</td>\n",
       "    </tr>\n",
       "    <tr>\n",
       "      <th>75%</th>\n",
       "      <td>13.68</td>\n",
       "      <td>3.08</td>\n",
       "      <td>2.56</td>\n",
       "      <td>21.50</td>\n",
       "      <td>107.00</td>\n",
       "      <td>2.80</td>\n",
       "      <td>2.88</td>\n",
       "      <td>0.44</td>\n",
       "      <td>1.95</td>\n",
       "      <td>6.20</td>\n",
       "      <td>1.12</td>\n",
       "      <td>3.17</td>\n",
       "      <td>985.00</td>\n",
       "    </tr>\n",
       "    <tr>\n",
       "      <th>max</th>\n",
       "      <td>14.83</td>\n",
       "      <td>5.80</td>\n",
       "      <td>3.23</td>\n",
       "      <td>30.00</td>\n",
       "      <td>162.00</td>\n",
       "      <td>3.88</td>\n",
       "      <td>5.08</td>\n",
       "      <td>0.66</td>\n",
       "      <td>3.58</td>\n",
       "      <td>13.00</td>\n",
       "      <td>1.71</td>\n",
       "      <td>4.00</td>\n",
       "      <td>1680.00</td>\n",
       "    </tr>\n",
       "  </tbody>\n",
       "</table>\n",
       "</div>"
      ],
      "text/plain": [
       "       Alcohol   Malic     Ash  Alcalinity  Magnesium  Phenols  Flavanoids  \\\n",
       "count   178.00  178.00  178.00      178.00     178.00   178.00      178.00   \n",
       "mean     13.00    2.34    2.37       19.49      99.74     2.30        2.03   \n",
       "std       0.81    1.12    0.27        3.34      14.28     0.63        1.00   \n",
       "min      11.03    0.74    1.36       10.60      70.00     0.98        0.34   \n",
       "25%      12.36    1.60    2.21       17.20      88.00     1.74        1.20   \n",
       "50%      13.05    1.87    2.36       19.50      98.00     2.36        2.13   \n",
       "75%      13.68    3.08    2.56       21.50     107.00     2.80        2.88   \n",
       "max      14.83    5.80    3.23       30.00     162.00     3.88        5.08   \n",
       "\n",
       "       Nonflavanoids  Proanthocyanins   Color     Hue  Dilution  Proline  \n",
       "count         178.00           178.00  178.00  178.00    178.00   178.00  \n",
       "mean            0.36             1.59    5.06    0.96      2.61   746.89  \n",
       "std             0.12             0.57    2.32    0.23      0.71   314.91  \n",
       "min             0.13             0.41    1.28    0.48      1.27   278.00  \n",
       "25%             0.27             1.25    3.22    0.78      1.94   500.50  \n",
       "50%             0.34             1.56    4.69    0.96      2.78   673.50  \n",
       "75%             0.44             1.95    6.20    1.12      3.17   985.00  \n",
       "max             0.66             3.58   13.00    1.71      4.00  1680.00  "
      ]
     },
     "execution_count": 5,
     "metadata": {},
     "output_type": "execute_result"
    }
   ],
   "source": [
    "np.round(df.describe(),2)"
   ]
  },
  {
   "cell_type": "markdown",
   "id": "be502eef",
   "metadata": {},
   "source": [
    "### Scaling the features"
   ]
  },
  {
   "cell_type": "code",
   "execution_count": 6,
   "id": "d2349e17",
   "metadata": {},
   "outputs": [
    {
     "data": {
      "text/html": [
       "<div>\n",
       "<style scoped>\n",
       "    .dataframe tbody tr th:only-of-type {\n",
       "        vertical-align: middle;\n",
       "    }\n",
       "\n",
       "    .dataframe tbody tr th {\n",
       "        vertical-align: top;\n",
       "    }\n",
       "\n",
       "    .dataframe thead th {\n",
       "        text-align: right;\n",
       "    }\n",
       "</style>\n",
       "<table border=\"1\" class=\"dataframe\">\n",
       "  <thead>\n",
       "    <tr style=\"text-align: right;\">\n",
       "      <th></th>\n",
       "      <th>Alcohol</th>\n",
       "      <th>Malic</th>\n",
       "      <th>Ash</th>\n",
       "      <th>Alcalinity</th>\n",
       "      <th>Magnesium</th>\n",
       "      <th>Phenols</th>\n",
       "      <th>Flavanoids</th>\n",
       "      <th>Nonflavanoids</th>\n",
       "      <th>Proanthocyanins</th>\n",
       "      <th>Color</th>\n",
       "      <th>Hue</th>\n",
       "      <th>Dilution</th>\n",
       "      <th>Proline</th>\n",
       "    </tr>\n",
       "  </thead>\n",
       "  <tbody>\n",
       "    <tr>\n",
       "      <th>count</th>\n",
       "      <td>178.00</td>\n",
       "      <td>178.00</td>\n",
       "      <td>178.00</td>\n",
       "      <td>178.00</td>\n",
       "      <td>178.00</td>\n",
       "      <td>178.00</td>\n",
       "      <td>178.00</td>\n",
       "      <td>178.00</td>\n",
       "      <td>178.00</td>\n",
       "      <td>178.00</td>\n",
       "      <td>178.00</td>\n",
       "      <td>178.00</td>\n",
       "      <td>178.00</td>\n",
       "    </tr>\n",
       "    <tr>\n",
       "      <th>mean</th>\n",
       "      <td>-0.00</td>\n",
       "      <td>-0.00</td>\n",
       "      <td>-0.00</td>\n",
       "      <td>-0.00</td>\n",
       "      <td>-0.00</td>\n",
       "      <td>-0.00</td>\n",
       "      <td>-0.00</td>\n",
       "      <td>0.00</td>\n",
       "      <td>-0.00</td>\n",
       "      <td>-0.00</td>\n",
       "      <td>0.00</td>\n",
       "      <td>0.00</td>\n",
       "      <td>-0.00</td>\n",
       "    </tr>\n",
       "    <tr>\n",
       "      <th>std</th>\n",
       "      <td>1.00</td>\n",
       "      <td>1.00</td>\n",
       "      <td>1.00</td>\n",
       "      <td>1.00</td>\n",
       "      <td>1.00</td>\n",
       "      <td>1.00</td>\n",
       "      <td>1.00</td>\n",
       "      <td>1.00</td>\n",
       "      <td>1.00</td>\n",
       "      <td>1.00</td>\n",
       "      <td>1.00</td>\n",
       "      <td>1.00</td>\n",
       "      <td>1.00</td>\n",
       "    </tr>\n",
       "    <tr>\n",
       "      <th>min</th>\n",
       "      <td>-2.43</td>\n",
       "      <td>-1.43</td>\n",
       "      <td>-3.68</td>\n",
       "      <td>-2.67</td>\n",
       "      <td>-2.09</td>\n",
       "      <td>-2.11</td>\n",
       "      <td>-1.70</td>\n",
       "      <td>-1.87</td>\n",
       "      <td>-2.07</td>\n",
       "      <td>-1.63</td>\n",
       "      <td>-2.09</td>\n",
       "      <td>-1.90</td>\n",
       "      <td>-1.49</td>\n",
       "    </tr>\n",
       "    <tr>\n",
       "      <th>25%</th>\n",
       "      <td>-0.79</td>\n",
       "      <td>-0.66</td>\n",
       "      <td>-0.57</td>\n",
       "      <td>-0.69</td>\n",
       "      <td>-0.82</td>\n",
       "      <td>-0.89</td>\n",
       "      <td>-0.83</td>\n",
       "      <td>-0.74</td>\n",
       "      <td>-0.60</td>\n",
       "      <td>-0.80</td>\n",
       "      <td>-0.77</td>\n",
       "      <td>-0.95</td>\n",
       "      <td>-0.78</td>\n",
       "    </tr>\n",
       "    <tr>\n",
       "      <th>50%</th>\n",
       "      <td>0.06</td>\n",
       "      <td>-0.42</td>\n",
       "      <td>-0.02</td>\n",
       "      <td>0.00</td>\n",
       "      <td>-0.12</td>\n",
       "      <td>0.10</td>\n",
       "      <td>0.11</td>\n",
       "      <td>-0.18</td>\n",
       "      <td>-0.06</td>\n",
       "      <td>-0.16</td>\n",
       "      <td>0.03</td>\n",
       "      <td>0.24</td>\n",
       "      <td>-0.23</td>\n",
       "    </tr>\n",
       "    <tr>\n",
       "      <th>75%</th>\n",
       "      <td>0.84</td>\n",
       "      <td>0.67</td>\n",
       "      <td>0.70</td>\n",
       "      <td>0.60</td>\n",
       "      <td>0.51</td>\n",
       "      <td>0.81</td>\n",
       "      <td>0.85</td>\n",
       "      <td>0.61</td>\n",
       "      <td>0.63</td>\n",
       "      <td>0.49</td>\n",
       "      <td>0.71</td>\n",
       "      <td>0.79</td>\n",
       "      <td>0.76</td>\n",
       "    </tr>\n",
       "    <tr>\n",
       "      <th>max</th>\n",
       "      <td>2.26</td>\n",
       "      <td>3.11</td>\n",
       "      <td>3.16</td>\n",
       "      <td>3.15</td>\n",
       "      <td>4.37</td>\n",
       "      <td>2.54</td>\n",
       "      <td>3.06</td>\n",
       "      <td>2.40</td>\n",
       "      <td>3.49</td>\n",
       "      <td>3.44</td>\n",
       "      <td>3.30</td>\n",
       "      <td>1.96</td>\n",
       "      <td>2.97</td>\n",
       "    </tr>\n",
       "  </tbody>\n",
       "</table>\n",
       "</div>"
      ],
      "text/plain": [
       "       Alcohol   Malic     Ash  Alcalinity  Magnesium  Phenols  Flavanoids  \\\n",
       "count   178.00  178.00  178.00      178.00     178.00   178.00      178.00   \n",
       "mean     -0.00   -0.00   -0.00       -0.00      -0.00    -0.00       -0.00   \n",
       "std       1.00    1.00    1.00        1.00       1.00     1.00        1.00   \n",
       "min      -2.43   -1.43   -3.68       -2.67      -2.09    -2.11       -1.70   \n",
       "25%      -0.79   -0.66   -0.57       -0.69      -0.82    -0.89       -0.83   \n",
       "50%       0.06   -0.42   -0.02        0.00      -0.12     0.10        0.11   \n",
       "75%       0.84    0.67    0.70        0.60       0.51     0.81        0.85   \n",
       "max       2.26    3.11    3.16        3.15       4.37     2.54        3.06   \n",
       "\n",
       "       Nonflavanoids  Proanthocyanins   Color     Hue  Dilution  Proline  \n",
       "count         178.00           178.00  178.00  178.00    178.00   178.00  \n",
       "mean            0.00            -0.00   -0.00    0.00      0.00    -0.00  \n",
       "std             1.00             1.00    1.00    1.00      1.00     1.00  \n",
       "min            -1.87            -2.07   -1.63   -2.09     -1.90    -1.49  \n",
       "25%            -0.74            -0.60   -0.80   -0.77     -0.95    -0.78  \n",
       "50%            -0.18            -0.06   -0.16    0.03      0.24    -0.23  \n",
       "75%             0.61             0.63    0.49    0.71      0.79     0.76  \n",
       "max             2.40             3.49    3.44    3.30      1.96     2.97  "
      ]
     },
     "execution_count": 6,
     "metadata": {},
     "output_type": "execute_result"
    }
   ],
   "source": [
    "from sklearn.preprocessing import StandardScaler\n",
    "scaler=StandardScaler()\n",
    "df_scaled=scaler.fit_transform(df)\n",
    "df_scaled=pd.DataFrame(df_scaled,columns=df.columns)\n",
    "np.round(df_scaled.describe(),2)"
   ]
  },
  {
   "cell_type": "code",
   "execution_count": 7,
   "id": "ec819949",
   "metadata": {},
   "outputs": [
    {
     "data": {
      "text/plain": [
       "(178, 13)"
      ]
     },
     "execution_count": 7,
     "metadata": {},
     "output_type": "execute_result"
    }
   ],
   "source": [
    "df_scaled.shape"
   ]
  },
  {
   "cell_type": "markdown",
   "id": "2792cb40",
   "metadata": {},
   "source": [
    "### Implementing full PCA"
   ]
  },
  {
   "cell_type": "code",
   "execution_count": 8,
   "id": "6c2dd092",
   "metadata": {},
   "outputs": [],
   "source": [
    "from sklearn.decomposition import PCA\n",
    "pca=PCA()\n",
    "df_pca=pca.fit_transform(df_scaled)"
   ]
  },
  {
   "cell_type": "code",
   "execution_count": 9,
   "id": "91c2232d",
   "metadata": {},
   "outputs": [
    {
     "data": {
      "text/plain": [
       "(178, 13)"
      ]
     },
     "execution_count": 9,
     "metadata": {},
     "output_type": "execute_result"
    }
   ],
   "source": [
    "df_pca.shape"
   ]
  },
  {
   "cell_type": "code",
   "execution_count": 10,
   "id": "e7bcaf52",
   "metadata": {},
   "outputs": [],
   "source": [
    "df_pca=pd.DataFrame(df_pca,columns=[\"PC1\",\"PC2\",\"PC3\",\"PC4\",\"PC5\",\"PC6\",\"PC7\",\"PC8\",\"PC9\",\"PC10\",\"PC11\",\"PC12\",\"PC13\"])"
   ]
  },
  {
   "cell_type": "code",
   "execution_count": 11,
   "id": "baa7c5c2",
   "metadata": {},
   "outputs": [
    {
     "data": {
      "text/html": [
       "<div>\n",
       "<style scoped>\n",
       "    .dataframe tbody tr th:only-of-type {\n",
       "        vertical-align: middle;\n",
       "    }\n",
       "\n",
       "    .dataframe tbody tr th {\n",
       "        vertical-align: top;\n",
       "    }\n",
       "\n",
       "    .dataframe thead th {\n",
       "        text-align: right;\n",
       "    }\n",
       "</style>\n",
       "<table border=\"1\" class=\"dataframe\">\n",
       "  <thead>\n",
       "    <tr style=\"text-align: right;\">\n",
       "      <th></th>\n",
       "      <th>PC1</th>\n",
       "      <th>PC2</th>\n",
       "      <th>PC3</th>\n",
       "      <th>PC4</th>\n",
       "      <th>PC5</th>\n",
       "      <th>PC6</th>\n",
       "      <th>PC7</th>\n",
       "      <th>PC8</th>\n",
       "      <th>PC9</th>\n",
       "      <th>PC10</th>\n",
       "      <th>PC11</th>\n",
       "      <th>PC12</th>\n",
       "      <th>PC13</th>\n",
       "    </tr>\n",
       "  </thead>\n",
       "  <tbody>\n",
       "    <tr>\n",
       "      <th>0</th>\n",
       "      <td>3.316751</td>\n",
       "      <td>-1.443463</td>\n",
       "      <td>-0.165739</td>\n",
       "      <td>-0.215631</td>\n",
       "      <td>0.693043</td>\n",
       "      <td>-0.223880</td>\n",
       "      <td>0.596427</td>\n",
       "      <td>0.065139</td>\n",
       "      <td>0.641443</td>\n",
       "      <td>1.020956</td>\n",
       "      <td>-0.451563</td>\n",
       "      <td>0.540810</td>\n",
       "      <td>-0.066239</td>\n",
       "    </tr>\n",
       "    <tr>\n",
       "      <th>1</th>\n",
       "      <td>2.209465</td>\n",
       "      <td>0.333393</td>\n",
       "      <td>-2.026457</td>\n",
       "      <td>-0.291358</td>\n",
       "      <td>-0.257655</td>\n",
       "      <td>-0.927120</td>\n",
       "      <td>0.053776</td>\n",
       "      <td>1.024416</td>\n",
       "      <td>-0.308847</td>\n",
       "      <td>0.159701</td>\n",
       "      <td>-0.142657</td>\n",
       "      <td>0.388238</td>\n",
       "      <td>0.003637</td>\n",
       "    </tr>\n",
       "    <tr>\n",
       "      <th>2</th>\n",
       "      <td>2.516740</td>\n",
       "      <td>-1.031151</td>\n",
       "      <td>0.982819</td>\n",
       "      <td>0.724902</td>\n",
       "      <td>-0.251033</td>\n",
       "      <td>0.549276</td>\n",
       "      <td>0.424205</td>\n",
       "      <td>-0.344216</td>\n",
       "      <td>-1.177834</td>\n",
       "      <td>0.113361</td>\n",
       "      <td>-0.286673</td>\n",
       "      <td>0.000584</td>\n",
       "      <td>0.021717</td>\n",
       "    </tr>\n",
       "    <tr>\n",
       "      <th>3</th>\n",
       "      <td>3.757066</td>\n",
       "      <td>-2.756372</td>\n",
       "      <td>-0.176192</td>\n",
       "      <td>0.567983</td>\n",
       "      <td>-0.311842</td>\n",
       "      <td>0.114431</td>\n",
       "      <td>-0.383337</td>\n",
       "      <td>0.643593</td>\n",
       "      <td>0.052544</td>\n",
       "      <td>0.239413</td>\n",
       "      <td>0.759584</td>\n",
       "      <td>-0.242020</td>\n",
       "      <td>-0.369484</td>\n",
       "    </tr>\n",
       "    <tr>\n",
       "      <th>4</th>\n",
       "      <td>1.008908</td>\n",
       "      <td>-0.869831</td>\n",
       "      <td>2.026688</td>\n",
       "      <td>-0.409766</td>\n",
       "      <td>0.298458</td>\n",
       "      <td>-0.406520</td>\n",
       "      <td>0.444074</td>\n",
       "      <td>0.416700</td>\n",
       "      <td>0.326819</td>\n",
       "      <td>-0.078366</td>\n",
       "      <td>-0.525945</td>\n",
       "      <td>-0.216664</td>\n",
       "      <td>-0.079364</td>\n",
       "    </tr>\n",
       "    <tr>\n",
       "      <th>...</th>\n",
       "      <td>...</td>\n",
       "      <td>...</td>\n",
       "      <td>...</td>\n",
       "      <td>...</td>\n",
       "      <td>...</td>\n",
       "      <td>...</td>\n",
       "      <td>...</td>\n",
       "      <td>...</td>\n",
       "      <td>...</td>\n",
       "      <td>...</td>\n",
       "      <td>...</td>\n",
       "      <td>...</td>\n",
       "      <td>...</td>\n",
       "    </tr>\n",
       "    <tr>\n",
       "      <th>173</th>\n",
       "      <td>-3.370524</td>\n",
       "      <td>-2.216289</td>\n",
       "      <td>-0.342570</td>\n",
       "      <td>1.058527</td>\n",
       "      <td>-0.574164</td>\n",
       "      <td>-1.108788</td>\n",
       "      <td>0.958416</td>\n",
       "      <td>-0.146097</td>\n",
       "      <td>-0.022498</td>\n",
       "      <td>-0.304117</td>\n",
       "      <td>0.139228</td>\n",
       "      <td>0.170786</td>\n",
       "      <td>-0.114427</td>\n",
       "    </tr>\n",
       "    <tr>\n",
       "      <th>174</th>\n",
       "      <td>-2.601956</td>\n",
       "      <td>-1.757229</td>\n",
       "      <td>0.207581</td>\n",
       "      <td>0.349496</td>\n",
       "      <td>0.255063</td>\n",
       "      <td>-0.026465</td>\n",
       "      <td>0.146894</td>\n",
       "      <td>-0.552427</td>\n",
       "      <td>-0.097969</td>\n",
       "      <td>-0.206061</td>\n",
       "      <td>0.258198</td>\n",
       "      <td>-0.279431</td>\n",
       "      <td>-0.187371</td>\n",
       "    </tr>\n",
       "    <tr>\n",
       "      <th>175</th>\n",
       "      <td>-2.677839</td>\n",
       "      <td>-2.760899</td>\n",
       "      <td>-0.940942</td>\n",
       "      <td>0.312035</td>\n",
       "      <td>1.271355</td>\n",
       "      <td>0.273068</td>\n",
       "      <td>0.679235</td>\n",
       "      <td>0.047024</td>\n",
       "      <td>0.001222</td>\n",
       "      <td>-0.247997</td>\n",
       "      <td>0.512492</td>\n",
       "      <td>0.698766</td>\n",
       "      <td>0.072078</td>\n",
       "    </tr>\n",
       "    <tr>\n",
       "      <th>176</th>\n",
       "      <td>-2.387017</td>\n",
       "      <td>-2.297347</td>\n",
       "      <td>-0.550696</td>\n",
       "      <td>-0.688285</td>\n",
       "      <td>0.813955</td>\n",
       "      <td>1.178783</td>\n",
       "      <td>0.633975</td>\n",
       "      <td>0.390829</td>\n",
       "      <td>0.057448</td>\n",
       "      <td>0.491490</td>\n",
       "      <td>0.299822</td>\n",
       "      <td>0.339821</td>\n",
       "      <td>-0.021866</td>\n",
       "    </tr>\n",
       "    <tr>\n",
       "      <th>177</th>\n",
       "      <td>-3.208758</td>\n",
       "      <td>-2.768920</td>\n",
       "      <td>1.013914</td>\n",
       "      <td>0.596903</td>\n",
       "      <td>-0.895193</td>\n",
       "      <td>0.296092</td>\n",
       "      <td>0.005741</td>\n",
       "      <td>-0.292914</td>\n",
       "      <td>0.741660</td>\n",
       "      <td>-0.117969</td>\n",
       "      <td>-0.229964</td>\n",
       "      <td>-0.188788</td>\n",
       "      <td>-0.323965</td>\n",
       "    </tr>\n",
       "  </tbody>\n",
       "</table>\n",
       "<p>178 rows × 13 columns</p>\n",
       "</div>"
      ],
      "text/plain": [
       "          PC1       PC2       PC3       PC4       PC5       PC6       PC7  \\\n",
       "0    3.316751 -1.443463 -0.165739 -0.215631  0.693043 -0.223880  0.596427   \n",
       "1    2.209465  0.333393 -2.026457 -0.291358 -0.257655 -0.927120  0.053776   \n",
       "2    2.516740 -1.031151  0.982819  0.724902 -0.251033  0.549276  0.424205   \n",
       "3    3.757066 -2.756372 -0.176192  0.567983 -0.311842  0.114431 -0.383337   \n",
       "4    1.008908 -0.869831  2.026688 -0.409766  0.298458 -0.406520  0.444074   \n",
       "..        ...       ...       ...       ...       ...       ...       ...   \n",
       "173 -3.370524 -2.216289 -0.342570  1.058527 -0.574164 -1.108788  0.958416   \n",
       "174 -2.601956 -1.757229  0.207581  0.349496  0.255063 -0.026465  0.146894   \n",
       "175 -2.677839 -2.760899 -0.940942  0.312035  1.271355  0.273068  0.679235   \n",
       "176 -2.387017 -2.297347 -0.550696 -0.688285  0.813955  1.178783  0.633975   \n",
       "177 -3.208758 -2.768920  1.013914  0.596903 -0.895193  0.296092  0.005741   \n",
       "\n",
       "          PC8       PC9      PC10      PC11      PC12      PC13  \n",
       "0    0.065139  0.641443  1.020956 -0.451563  0.540810 -0.066239  \n",
       "1    1.024416 -0.308847  0.159701 -0.142657  0.388238  0.003637  \n",
       "2   -0.344216 -1.177834  0.113361 -0.286673  0.000584  0.021717  \n",
       "3    0.643593  0.052544  0.239413  0.759584 -0.242020 -0.369484  \n",
       "4    0.416700  0.326819 -0.078366 -0.525945 -0.216664 -0.079364  \n",
       "..        ...       ...       ...       ...       ...       ...  \n",
       "173 -0.146097 -0.022498 -0.304117  0.139228  0.170786 -0.114427  \n",
       "174 -0.552427 -0.097969 -0.206061  0.258198 -0.279431 -0.187371  \n",
       "175  0.047024  0.001222 -0.247997  0.512492  0.698766  0.072078  \n",
       "176  0.390829  0.057448  0.491490  0.299822  0.339821 -0.021866  \n",
       "177 -0.292914  0.741660 -0.117969 -0.229964 -0.188788 -0.323965  \n",
       "\n",
       "[178 rows x 13 columns]"
      ]
     },
     "execution_count": 11,
     "metadata": {},
     "output_type": "execute_result"
    }
   ],
   "source": [
    "df_pca"
   ]
  },
  {
   "cell_type": "code",
   "execution_count": 12,
   "id": "93ce0c47",
   "metadata": {},
   "outputs": [
    {
     "data": {
      "text/plain": [
       "array([4.73243698, 2.51108093, 1.45424187, 0.92416587, 0.85804868,\n",
       "       0.64528221, 0.55414147, 0.35046627, 0.29051203, 0.25232001,\n",
       "       0.22706428, 0.16972374, 0.10396199])"
      ]
     },
     "execution_count": 12,
     "metadata": {},
     "output_type": "execute_result"
    }
   ],
   "source": [
    "eigen_values=pca.explained_variance_\n",
    "eigen_values"
   ]
  },
  {
   "cell_type": "code",
   "execution_count": 13,
   "id": "bcedfb9a",
   "metadata": {},
   "outputs": [
    {
     "data": {
      "text/plain": [
       "array([[ 0.1443294 , -0.24518758, -0.00205106, -0.23932041,  0.14199204,\n",
       "         0.39466085,  0.4229343 , -0.2985331 ,  0.31342949, -0.0886167 ,\n",
       "         0.29671456,  0.37616741,  0.28675223],\n",
       "       [-0.48365155, -0.22493093, -0.31606881,  0.0105905 , -0.299634  ,\n",
       "        -0.06503951,  0.00335981, -0.02877949, -0.03930172, -0.52999567,\n",
       "         0.27923515,  0.16449619, -0.36490283],\n",
       "       [-0.20738262,  0.08901289,  0.6262239 ,  0.61208035,  0.13075693,\n",
       "         0.14617896,  0.1506819 ,  0.17036816,  0.14945431, -0.13730621,\n",
       "         0.08522192,  0.16600459, -0.12674592],\n",
       "       [-0.0178563 ,  0.53689028, -0.21417556,  0.06085941, -0.35179658,\n",
       "         0.19806835,  0.15229479, -0.20330102,  0.39905653,  0.06592568,\n",
       "        -0.42777141,  0.18412074, -0.23207086],\n",
       "       [-0.26566365,  0.03521363, -0.14302547,  0.06610294,  0.72704851,\n",
       "        -0.14931841, -0.10902584, -0.50070298,  0.13685982, -0.07643678,\n",
       "        -0.17361452, -0.10116099, -0.1578688 ],\n",
       "       [-0.21353865, -0.53681385, -0.15447466,  0.10082451, -0.03814394,\n",
       "         0.0841223 ,  0.01892002,  0.25859401,  0.53379539,  0.41864414,\n",
       "        -0.10598274, -0.26585107, -0.11972557],\n",
       "       [-0.05639636,  0.42052391, -0.14917061, -0.28696914,  0.3228833 ,\n",
       "        -0.02792498, -0.06068521,  0.59544729,  0.37213935, -0.22771214,\n",
       "         0.23207564, -0.0447637 ,  0.0768045 ],\n",
       "       [-0.39613926, -0.06582674,  0.17026002, -0.42797018,  0.15636143,\n",
       "         0.40593409,  0.18724536,  0.23328465, -0.36822675,  0.03379692,\n",
       "        -0.43662362,  0.07810789, -0.12002267],\n",
       "       [ 0.50861912, -0.07528304, -0.30769445,  0.20044931,  0.27140257,\n",
       "         0.28603452,  0.04957849,  0.19550132, -0.20914487,  0.05621752,\n",
       "         0.08582839,  0.1372269 , -0.57578611],\n",
       "       [ 0.21160473, -0.30907994, -0.02712539,  0.05279942,  0.06787022,\n",
       "        -0.32013135, -0.16315051,  0.21553507,  0.1341839 , -0.29077518,\n",
       "        -0.52239889,  0.52370587,  0.162116  ],\n",
       "       [-0.22591696,  0.07648554, -0.49869142,  0.47931378,  0.07128891,\n",
       "         0.30434119, -0.02569409,  0.11689586, -0.23736257,  0.0318388 ,\n",
       "        -0.04821201,  0.0464233 ,  0.53926983],\n",
       "       [-0.26628645,  0.12169604, -0.04962237, -0.05574287,  0.06222011,\n",
       "        -0.30388245, -0.04289883,  0.04235219, -0.09555303,  0.60422163,\n",
       "         0.259214  ,  0.60095872, -0.07940162],\n",
       "       [ 0.01496997,  0.02596375, -0.14121803,  0.09168285,  0.05677422,\n",
       "        -0.46390791,  0.83225706,  0.11403985, -0.11691707, -0.0119928 ,\n",
       "        -0.08988884, -0.15671813,  0.01444734]])"
      ]
     },
     "execution_count": 13,
     "metadata": {},
     "output_type": "execute_result"
    }
   ],
   "source": [
    "eigen_vectors=pca.components_\n",
    "eigen_vectors"
   ]
  },
  {
   "cell_type": "markdown",
   "id": "d322e02c",
   "metadata": {},
   "source": [
    "### Finding optimum number of Principal components\n"
   ]
  },
  {
   "cell_type": "code",
   "execution_count": 14,
   "id": "88e09c29",
   "metadata": {},
   "outputs": [
    {
     "data": {
      "image/png": "[encoded data removed]",
      "text/plain": [
       "<Figure size 432x288 with 1 Axes>"
      ]
     },
     "metadata": {
      "needs_background": "light"
     },
     "output_type": "display_data"
    }
   ],
   "source": [
    "plt.plot(range(1,14),eigen_values)\n",
    "plt.axhline(y=1,color=\"r\",linestyle=\"-\")\n",
    "plt.xlabel(\"Principal Components\")\n",
    "plt.ylabel(\"Eigen Values\")\n",
    "plt.tight_layout();"
   ]
  },
  {
   "cell_type": "markdown",
   "id": "62b654d4",
   "metadata": {},
   "source": [
    "### From the above graph Optimum number of principal components is 3 as first 3 components are better at explaining the variation in the dataset comapred to others"
   ]
  },
  {
   "cell_type": "markdown",
   "id": "49c2711d",
   "metadata": {},
   "source": [
    "### Implementing PCA with optimum number of components"
   ]
  },
  {
   "cell_type": "code",
   "execution_count": 15,
   "id": "be7ec21f",
   "metadata": {},
   "outputs": [
    {
     "data": {
      "text/html": [
       "<div>\n",
       "<style scoped>\n",
       "    .dataframe tbody tr th:only-of-type {\n",
       "        vertical-align: middle;\n",
       "    }\n",
       "\n",
       "    .dataframe tbody tr th {\n",
       "        vertical-align: top;\n",
       "    }\n",
       "\n",
       "    .dataframe thead th {\n",
       "        text-align: right;\n",
       "    }\n",
       "</style>\n",
       "<table border=\"1\" class=\"dataframe\">\n",
       "  <thead>\n",
       "    <tr style=\"text-align: right;\">\n",
       "      <th></th>\n",
       "      <th>PC1</th>\n",
       "      <th>PC2</th>\n",
       "      <th>PC3</th>\n",
       "    </tr>\n",
       "  </thead>\n",
       "  <tbody>\n",
       "    <tr>\n",
       "      <th>0</th>\n",
       "      <td>3.316751</td>\n",
       "      <td>-1.443463</td>\n",
       "      <td>-0.165739</td>\n",
       "    </tr>\n",
       "    <tr>\n",
       "      <th>1</th>\n",
       "      <td>2.209465</td>\n",
       "      <td>0.333393</td>\n",
       "      <td>-2.026457</td>\n",
       "    </tr>\n",
       "    <tr>\n",
       "      <th>2</th>\n",
       "      <td>2.516740</td>\n",
       "      <td>-1.031151</td>\n",
       "      <td>0.982819</td>\n",
       "    </tr>\n",
       "    <tr>\n",
       "      <th>3</th>\n",
       "      <td>3.757066</td>\n",
       "      <td>-2.756372</td>\n",
       "      <td>-0.176192</td>\n",
       "    </tr>\n",
       "    <tr>\n",
       "      <th>4</th>\n",
       "      <td>1.008908</td>\n",
       "      <td>-0.869831</td>\n",
       "      <td>2.026688</td>\n",
       "    </tr>\n",
       "  </tbody>\n",
       "</table>\n",
       "</div>"
      ],
      "text/plain": [
       "        PC1       PC2       PC3\n",
       "0  3.316751 -1.443463 -0.165739\n",
       "1  2.209465  0.333393 -2.026457\n",
       "2  2.516740 -1.031151  0.982819\n",
       "3  3.757066 -2.756372 -0.176192\n",
       "4  1.008908 -0.869831  2.026688"
      ]
     },
     "execution_count": 15,
     "metadata": {},
     "output_type": "execute_result"
    }
   ],
   "source": [
    "pca_3=PCA(n_components=3)\n",
    "df_pca_3=pca_3.fit_transform(df_scaled)\n",
    "df_pca_3=pd.DataFrame(df_pca_3,columns=[\"PC1\",\"PC2\",\"PC3\"])\n",
    "df_pca_3.head()"
   ]
  },
  {
   "cell_type": "markdown",
   "id": "955364fd",
   "metadata": {},
   "source": [
    "### Hierarchical Clustering using first 3 Principal Components"
   ]
  },
  {
   "cell_type": "code",
   "execution_count": 16,
   "id": "3cbf749a",
   "metadata": {},
   "outputs": [
    {
     "data": {
      "image/png": "[encoded data removed]",
      "text/plain": [
       "<Figure size 1080x720 with 1 Axes>"
      ]
     },
     "metadata": {
      "needs_background": "light"
     },
     "output_type": "display_data"
    }
   ],
   "source": [
    "from scipy.cluster.hierarchy import dendrogram,linkage\n",
    "\n",
    "link_avg=linkage(df_pca_3,method='ward')\n",
    "plt.figure(figsize=(15,10))\n",
    "dend=dendrogram(link_avg)\n",
    "dend;"
   ]
  },
  {
   "cell_type": "code",
   "execution_count": 17,
   "id": "2c603c95",
   "metadata": {},
   "outputs": [
    {
     "data": {
      "text/plain": [
       "3"
      ]
     },
     "execution_count": 17,
     "metadata": {},
     "output_type": "execute_result"
    }
   ],
   "source": [
    "dend[\"color_list\"]\n",
    "\n",
    "unique_colors=set(dend[\"color_list\"])\n",
    "unique_colors\n",
    "\n",
    "len(unique_colors)-1"
   ]
  },
  {
   "cell_type": "code",
   "execution_count": 18,
   "id": "7dd4b803",
   "metadata": {},
   "outputs": [
    {
     "data": {
      "image/png": "[encoded data removed]",
      "text/plain": [
       "<Figure size 432x288 with 1 Axes>"
      ]
     },
     "metadata": {
      "needs_background": "light"
     },
     "output_type": "display_data"
    }
   ],
   "source": [
    "from sklearn.cluster import AgglomerativeClustering,KMeans\n",
    "from sklearn.metrics import silhouette_score\n",
    "\n",
    "ss=[]\n",
    "for i in range(2,11) :\n",
    "    agglo=AgglomerativeClustering(n_clusters=i,affinity=\"euclidean\",linkage=\"ward\")\n",
    "    agglo.fit(df_pca_3)\n",
    "    ss.append(silhouette_score(df_pca_3,agglo.labels_))\n",
    "    \n",
    "\n",
    "plt.plot(range(2,11),ss,marker='o')\n",
    "plt.title(\"SScore curve\")\n",
    "plt.xlabel(\"Number of clusters\")\n",
    "plt.ylabel(\"Silhovette score\");\n",
    "    "
   ]
  },
  {
   "cell_type": "markdown",
   "id": "cf34b029",
   "metadata": {},
   "source": [
    "### Since the vertical distance is highest in blue cluster which has 3 clusters in dendogram and also the unique color list -1 is 3  and also the Silhouette score is high for cluster 3 optimal number of clusters for hierarchical clustering is 3."
   ]
  },
  {
   "cell_type": "markdown",
   "id": "d19f51ce",
   "metadata": {},
   "source": [
    "### KMeans Clustering using first 3 Principal Components"
   ]
  },
  {
   "cell_type": "code",
   "execution_count": 19,
   "id": "e6d8df8b",
   "metadata": {},
   "outputs": [
    {
     "data": {
      "image/png": "[encoded data removed]",
      "text/plain": [
       "<Figure size 432x288 with 1 Axes>"
      ]
     },
     "metadata": {
      "needs_background": "light"
     },
     "output_type": "display_data"
    }
   ],
   "source": [
    "ss=[]\n",
    "for i in range(2,11) :\n",
    "    kmeans=KMeans(n_clusters=i,random_state=42)\n",
    "    kmeans.fit(df_pca_3)\n",
    "    ss.append(silhouette_score(df_pca_3,kmeans.labels_))\n",
    "    \n",
    "\n",
    "plt.plot(range(2,11),ss,marker='o')\n",
    "plt.title(\"SScore curve\")\n",
    "plt.xlabel(\"Number of clusters\")\n",
    "plt.ylabel(\"Silhovette score\");"
   ]
  },
  {
   "cell_type": "code",
   "execution_count": 20,
   "id": "95e03c11",
   "metadata": {},
   "outputs": [
    {
     "data": {
      "image/png": "[encoded data removed]",
      "text/plain": [
       "<Figure size 432x288 with 1 Axes>"
      ]
     },
     "metadata": {
      "needs_background": "light"
     },
     "output_type": "display_data"
    }
   ],
   "source": [
    "wss=[]\n",
    "for i in range(1,11):\n",
    "    kmeans=KMeans(n_clusters=i,random_state=42)\n",
    "    kmeans.fit(df_pca_3)\n",
    "    wss.append(kmeans.inertia_)\n",
    "    \n",
    "plt.plot(range(1,11),wss,marker='o')\n",
    "plt.title(\"Elbow curve\")\n",
    "plt.xlabel(\"Number of clusters\")\n",
    "plt.ylabel(\"WSS\");"
   ]
  },
  {
   "cell_type": "markdown",
   "id": "2f582ca4",
   "metadata": {},
   "source": [
    "### Since the elbow is occuring at 3 from above graph and also the Silhouette score is high for cluster 3 optimal number of clusters for KMeans clustering is 3."
   ]
  },
  {
   "cell_type": "markdown",
   "id": "59c86209",
   "metadata": {},
   "source": [
    "### Hierarchical Clustering using Original Dataset"
   ]
  },
  {
   "cell_type": "code",
   "execution_count": 21,
   "id": "05a11a26",
   "metadata": {},
   "outputs": [
    {
     "data": {
      "image/png": "[encoded data removed]",
      "text/plain": [
       "<Figure size 1080x720 with 1 Axes>"
      ]
     },
     "metadata": {
      "needs_background": "light"
     },
     "output_type": "display_data"
    }
   ],
   "source": [
    "from scipy.cluster.hierarchy import dendrogram,linkage\n",
    "\n",
    "link_avg=linkage(df_scaled,method='ward')\n",
    "plt.figure(figsize=(15,10))\n",
    "dend=dendrogram(link_avg)\n",
    "dend;"
   ]
  },
  {
   "cell_type": "code",
   "execution_count": 22,
   "id": "dfb0d5f7",
   "metadata": {},
   "outputs": [
    {
     "data": {
      "text/plain": [
       "3"
      ]
     },
     "execution_count": 22,
     "metadata": {},
     "output_type": "execute_result"
    }
   ],
   "source": [
    "dend[\"color_list\"]\n",
    "\n",
    "unique_colors=set(dend[\"color_list\"])\n",
    "unique_colors\n",
    "\n",
    "len(unique_colors)-1"
   ]
  },
  {
   "cell_type": "code",
   "execution_count": 23,
   "id": "89643d91",
   "metadata": {},
   "outputs": [
    {
     "data": {
      "image/png": "[encoded data removed]",
      "text/plain": [
       "<Figure size 432x288 with 1 Axes>"
      ]
     },
     "metadata": {
      "needs_background": "light"
     },
     "output_type": "display_data"
    }
   ],
   "source": [
    "from sklearn.cluster import AgglomerativeClustering,KMeans\n",
    "from sklearn.metrics import silhouette_score\n",
    "\n",
    "ss=[]\n",
    "for i in range(2,11) :\n",
    "    agglo=AgglomerativeClustering(n_clusters=i,affinity=\"euclidean\",linkage=\"ward\")\n",
    "    agglo.fit(df_scaled)\n",
    "    ss.append(silhouette_score(df_scaled,agglo.labels_))\n",
    "    \n",
    "\n",
    "plt.plot(range(2,11),ss,marker='o')\n",
    "plt.title(\"SScore curve\")\n",
    "plt.xlabel(\"Number of clusters\")\n",
    "plt.ylabel(\"Silhovette score\");"
   ]
  },
  {
   "cell_type": "markdown",
   "id": "2bfb85ee",
   "metadata": {},
   "source": [
    "    \n",
    "\n",
    "### Since the vertical distance is highest in blue cluster which has 3 clusters in dendogram and also the unique color list -1 is 3  and also the Silhouette score is high for cluster 3 optimal number of clusters for hierarchical clustering is 3."
   ]
  },
  {
   "cell_type": "markdown",
   "id": "bc713778",
   "metadata": {},
   "source": [
    "### KMeans Clustering using Original Dataset"
   ]
  },
  {
   "cell_type": "code",
   "execution_count": 24,
   "id": "f17be7c5",
   "metadata": {},
   "outputs": [
    {
     "data": {
      "image/png": "[encoded data removed]",
      "text/plain": [
       "<Figure size 432x288 with 1 Axes>"
      ]
     },
     "metadata": {
      "needs_background": "light"
     },
     "output_type": "display_data"
    }
   ],
   "source": [
    "ss=[]\n",
    "for i in range(2,11) :\n",
    "    kmeans=KMeans(n_clusters=i,random_state=42)\n",
    "    kmeans.fit(df_scaled)\n",
    "    ss.append(silhouette_score(df_scaled,kmeans.labels_))\n",
    "    \n",
    "\n",
    "plt.plot(range(2,11),ss,marker='o')\n",
    "plt.title(\"SScore curve\")\n",
    "plt.xlabel(\"Number of clusters\")\n",
    "plt.ylabel(\"Silhovette score\");"
   ]
  },
  {
   "cell_type": "code",
   "execution_count": 25,
   "id": "3319261e",
   "metadata": {},
   "outputs": [
    {
     "data": {
      "image/png": "[encoded data removed]",
      "text/plain": [
       "<Figure size 432x288 with 1 Axes>"
      ]
     },
     "metadata": {
      "needs_background": "light"
     },
     "output_type": "display_data"
    }
   ],
   "source": [
    "wss=[]\n",
    "for i in range(1,11):\n",
    "    kmeans=KMeans(n_clusters=i,random_state=42)\n",
    "    kmeans.fit(df_scaled)\n",
    "    wss.append(kmeans.inertia_)\n",
    "    \n",
    "plt.plot(range(1,11),wss,marker='o')\n",
    "plt.title(\"Elbow curve\")\n",
    "plt.xlabel(\"Number of clusters\")\n",
    "plt.ylabel(\"WSS\");"
   ]
  },
  {
   "cell_type": "markdown",
   "id": "f568cf54",
   "metadata": {},
   "source": [
    "### Since the elbow is occuring at 3 from above graph and also the Silhouette score is high for cluster 3 optimal number of clusters for KMeans clustering is 3."
   ]
  },
  {
   "cell_type": "markdown",
   "id": "b6837936",
   "metadata": {},
   "source": [
    "## Therefore we have obtained same number of clusters using first 3 principal components and original dataset."
   ]
  }
 ],
 "metadata": {
  "kernelspec": {
   "display_name": "Python 3 (ipykernel)",
   "language": "python",
   "name": "python3"
  },
  "language_info": {
   "codemirror_mode": {
    "name": "ipython",
    "version": 3
   },
   "file_extension": ".py",
   "mimetype": "text/x-python",
   "name": "python",
   "nbconvert_exporter": "python",
   "pygments_lexer": "ipython3",
   "version": "3.7.15"
  }
 },
 "nbformat": 4,
 "nbformat_minor": 5
}
